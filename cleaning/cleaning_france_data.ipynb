{
 "cells": [
  {
   "cell_type": "code",
   "execution_count": 2,
   "metadata": {},
   "outputs": [],
   "source": [
    "import pandas as pd\n",
    "import numpy as np\n",
    "import torch\n",
    "\n",
    "import sys\n",
    "import os\n",
    "sys.path.append(os.path.dirname(os.path.dirname(os.path.abspath(\"__file__\"))))\n",
    "from cleaning.pipeline import strategic_fill, shift_forecast_columns"
   ]
  },
  {
   "cell_type": "code",
   "execution_count": 3,
   "metadata": {},
   "outputs": [
    {
     "name": "stdout",
     "output_type": "stream",
     "text": [
      "Trying to load from: /Users/aryanahri/epf_datasets/data/raw_data/france_household_consumption.csv\n",
      "First 5 rows of the raw data:\n",
      "         Date      Time Global_active_power Global_reactive_power  Voltage  \\\n",
      "0  16/12/2006  17:24:00               4.216                 0.418  234.840   \n",
      "1  16/12/2006  17:25:00               5.360                 0.436  233.630   \n",
      "2  16/12/2006  17:26:00               5.374                 0.498  233.290   \n",
      "3  16/12/2006  17:27:00               5.388                 0.502  233.740   \n",
      "4  16/12/2006  17:28:00               3.666                 0.528  235.680   \n",
      "\n",
      "  Global_intensity Sub_metering_1 Sub_metering_2  Sub_metering_3  \n",
      "0           18.400          0.000          1.000            17.0  \n",
      "1           23.000          0.000          1.000            16.0  \n",
      "2           23.000          0.000          2.000            17.0  \n",
      "3           23.000          0.000          1.000            17.0  \n",
      "4           15.800          0.000          1.000            17.0  \n",
      "\n",
      "Data types:\n",
      "Date                      object\n",
      "Time                      object\n",
      "Global_active_power       object\n",
      "Global_reactive_power     object\n",
      "Voltage                   object\n",
      "Global_intensity          object\n",
      "Sub_metering_1            object\n",
      "Sub_metering_2            object\n",
      "Sub_metering_3           float64\n",
      "dtype: object\n",
      "\n",
      "Creating datetime column...\n",
      "Number of null datetime values: 0\n",
      "\n",
      "Sample of data with new datetime column:\n",
      "         Date      Time                  datetime\n",
      "0  16/12/2006  17:24:00 2006-12-16 17:24:00+01:00\n",
      "1  16/12/2006  17:25:00 2006-12-16 17:25:00+01:00\n",
      "2  16/12/2006  17:26:00 2006-12-16 17:26:00+01:00\n",
      "3  16/12/2006  17:27:00 2006-12-16 17:27:00+01:00\n",
      "4  16/12/2006  17:28:00 2006-12-16 17:28:00+01:00\n",
      "Index(['Date', 'Time', 'Global_active_power', 'Global_reactive_power',\n",
      "       'Voltage', 'Global_intensity', 'Sub_metering_1', 'Sub_metering_2',\n",
      "       'Sub_metering_3', 'datetime'],\n",
      "      dtype='object')\n"
     ]
    }
   ],
   "source": [
    "project_root = os.path.dirname(os.path.dirname(os.path.abspath(\"__file__\")))\n",
    "data_path = os.path.join(project_root, 'data', 'raw_data', 'france_household_consumption.csv')\n",
    "print(f\"Trying to load from: {data_path}\")\n",
    "raw_data = pd.read_csv(data_path, sep=';', low_memory=False)\n",
    "\n",
    "# Inspect the first few rows to understand the data format\n",
    "print(\"First 5 rows of the raw data:\")\n",
    "print(raw_data.head())\n",
    "\n",
    "# Check data types\n",
    "print(\"\\nData types:\")\n",
    "print(raw_data.dtypes)\n",
    "\n",
    "# Fuse Date and Time columns into a single datetime column\n",
    "# The format appears to be DD/MM/YYYY for Date and HH:MM:SS for Time\n",
    "print(\"\\nCreating datetime column...\")\n",
    "raw_data['datetime'] = pd.to_datetime(raw_data['Date'] + ' ' + raw_data['Time'], \n",
    "                                     format='%d/%m/%Y %H:%M:%S',\n",
    "                                     errors='coerce')\n",
    "\n",
    "# Set the timezone to France (Western European Time)\n",
    "# Handle daylight saving time transitions by explicitly setting ambiguous times to the first occurrence\n",
    "# This fixes the AmbiguousTimeError for times like 2007-10-28 01:00:00 that occur twice during DST fallback\n",
    "raw_data['datetime'] = raw_data['datetime'].dt.tz_localize('Europe/Paris', \n",
    "                                                          nonexistent='shift_forward',\n",
    "                                                          ambiguous=True)  # Use True to select the first occurrence\n",
    "\n",
    "# Check if there were any parsing errors\n",
    "null_dates = raw_data['datetime'].isnull().sum()\n",
    "print(f\"Number of null datetime values: {null_dates}\")\n",
    "\n",
    "# If needed, we can drop the original Date and Time columns\n",
    "# raw_data.drop(['Date', 'Time'], axis=1, inplace=True)\n",
    "\n",
    "# Set the datetime column as the index\n",
    "# raw_data.set_index('datetime', inplace=True)\n",
    "\n",
    "print(\"\\nSample of data with new datetime column:\")\n",
    "print(raw_data[['Date', 'Time', 'datetime']].head())\n",
    "\n",
    "print(raw_data.columns)\n",
    "\n",
    "# raw_data['time'] = pd.to_datetime(raw_data['time'], utc=True)\n",
    "# raw_data.set_index('time', inplace=True)"
   ]
  },
  {
   "cell_type": "code",
   "execution_count": 4,
   "metadata": {},
   "outputs": [
    {
     "name": "stdout",
     "output_type": "stream",
     "text": [
      "\n",
      "Columns after removing Date/Time and renaming datetime:\n",
      "Index(['Global_active_power', 'Global_reactive_power', 'Voltage',\n",
      "       'Global_intensity', 'Sub_metering_1', 'Sub_metering_2',\n",
      "       'Sub_metering_3', 'time'],\n",
      "      dtype='object')\n",
      "\n",
      "Sample of data with renamed time column:\n",
      "                       time Global_active_power\n",
      "0 2006-12-16 17:24:00+01:00               4.216\n",
      "1 2006-12-16 17:25:00+01:00               5.360\n",
      "2 2006-12-16 17:26:00+01:00               5.374\n",
      "3 2006-12-16 17:27:00+01:00               5.388\n",
      "4 2006-12-16 17:28:00+01:00               3.666\n"
     ]
    }
   ],
   "source": [
    "# Remove the 'Date' and 'Time' columns\n",
    "raw_data.drop(['Date', 'Time'], axis=1, inplace=True)\n",
    "\n",
    "# Rename the 'datetime' column to 'time'\n",
    "raw_data.rename(columns={'datetime': 'time'}, inplace=True)\n",
    "\n",
    "# Verify the changes\n",
    "print(\"\\nColumns after removing Date/Time and renaming datetime:\")\n",
    "print(raw_data.columns)\n",
    "print(\"\\nSample of data with renamed time column:\")\n",
    "print(raw_data[['time', 'Global_active_power']].head())\n"
   ]
  },
  {
   "cell_type": "code",
   "execution_count": 5,
   "metadata": {},
   "outputs": [
    {
     "name": "stdout",
     "output_type": "stream",
     "text": [
      "\n",
      "DataFrame after setting 'time' as index:\n",
      "                          Global_active_power Global_reactive_power  Voltage  \\\n",
      "time                                                                           \n",
      "2006-12-16 17:24:00+01:00               4.216                 0.418  234.840   \n",
      "2006-12-16 17:25:00+01:00               5.360                 0.436  233.630   \n",
      "2006-12-16 17:26:00+01:00               5.374                 0.498  233.290   \n",
      "2006-12-16 17:27:00+01:00               5.388                 0.502  233.740   \n",
      "2006-12-16 17:28:00+01:00               3.666                 0.528  235.680   \n",
      "\n",
      "                          Global_intensity Sub_metering_1 Sub_metering_2  \\\n",
      "time                                                                       \n",
      "2006-12-16 17:24:00+01:00           18.400          0.000          1.000   \n",
      "2006-12-16 17:25:00+01:00           23.000          0.000          1.000   \n",
      "2006-12-16 17:26:00+01:00           23.000          0.000          2.000   \n",
      "2006-12-16 17:27:00+01:00           23.000          0.000          1.000   \n",
      "2006-12-16 17:28:00+01:00           15.800          0.000          1.000   \n",
      "\n",
      "                           Sub_metering_3  \n",
      "time                                       \n",
      "2006-12-16 17:24:00+01:00            17.0  \n",
      "2006-12-16 17:25:00+01:00            16.0  \n",
      "2006-12-16 17:26:00+01:00            17.0  \n",
      "2006-12-16 17:27:00+01:00            17.0  \n",
      "2006-12-16 17:28:00+01:00            17.0  \n",
      "\n",
      "Index name: time\n",
      "Index type: <class 'pandas.core.indexes.datetimes.DatetimeIndex'>\n"
     ]
    }
   ],
   "source": [
    "# Set the 'time' column as the index of the DataFrame\n",
    "raw_data.set_index('time', inplace=True)\n",
    "\n",
    "# Verify that 'time' is now the index\n",
    "print(\"\\nDataFrame after setting 'time' as index:\")\n",
    "print(raw_data.head())\n",
    "print(\"\\nIndex name:\", raw_data.index.name)\n",
    "print(\"Index type:\", type(raw_data.index))\n"
   ]
  },
  {
   "cell_type": "code",
   "execution_count": 6,
   "metadata": {},
   "outputs": [
    {
     "name": "stdout",
     "output_type": "stream",
     "text": [
      "DatetimeIndex(['2007-10-28 02:00:00+01:00', '2007-10-28 02:01:00+01:00',\n",
      "               '2007-10-28 02:02:00+01:00', '2007-10-28 02:03:00+01:00',\n",
      "               '2007-10-28 02:04:00+01:00', '2007-10-28 02:05:00+01:00',\n",
      "               '2007-10-28 02:06:00+01:00', '2007-10-28 02:07:00+01:00',\n",
      "               '2007-10-28 02:08:00+01:00', '2007-10-28 02:09:00+01:00',\n",
      "               ...\n",
      "               '2010-10-31 02:50:00+01:00', '2010-10-31 02:51:00+01:00',\n",
      "               '2010-10-31 02:52:00+01:00', '2010-10-31 02:53:00+01:00',\n",
      "               '2010-10-31 02:54:00+01:00', '2010-10-31 02:55:00+01:00',\n",
      "               '2010-10-31 02:56:00+01:00', '2010-10-31 02:57:00+01:00',\n",
      "               '2010-10-31 02:58:00+01:00', '2010-10-31 02:59:00+01:00'],\n",
      "              dtype='datetime64[ns, Europe/Paris]', length=240, freq=None)\n"
     ]
    }
   ],
   "source": [
    "start_time = raw_data.index.min()\n",
    "end_time = raw_data.index.max()\n",
    "complete_range = pd.date_range(start=start_time, end=end_time, freq='min')\n",
    "\n",
    "# Find missing hours and then insert these times to make the time consecutive\n",
    "missing_hours = complete_range.difference(raw_data.index)\n",
    "print(missing_hours)\n",
    "missing_df = pd.DataFrame(index=missing_hours)\n",
    "raw_data = pd.concat([raw_data, missing_df])\n",
    "raw_data = raw_data.sort_index()\n",
    "\n",
    "filled_df = strategic_fill(raw_data)"
   ]
  },
  {
   "cell_type": "code",
   "execution_count": 7,
   "metadata": {},
   "outputs": [
    {
     "data": {
      "text/html": [
       "<div>\n",
       "<style scoped>\n",
       "    .dataframe tbody tr th:only-of-type {\n",
       "        vertical-align: middle;\n",
       "    }\n",
       "\n",
       "    .dataframe tbody tr th {\n",
       "        vertical-align: top;\n",
       "    }\n",
       "\n",
       "    .dataframe thead th {\n",
       "        text-align: right;\n",
       "    }\n",
       "</style>\n",
       "<table border=\"1\" class=\"dataframe\">\n",
       "  <thead>\n",
       "    <tr style=\"text-align: right;\">\n",
       "      <th></th>\n",
       "      <th>Global_active_power</th>\n",
       "      <th>Global_reactive_power</th>\n",
       "      <th>Voltage</th>\n",
       "      <th>Global_intensity</th>\n",
       "      <th>Sub_metering_1</th>\n",
       "      <th>Sub_metering_2</th>\n",
       "      <th>Sub_metering_3</th>\n",
       "    </tr>\n",
       "  </thead>\n",
       "  <tbody>\n",
       "    <tr>\n",
       "      <th>2006-12-16 17:24:00+01:00</th>\n",
       "      <td>4.216</td>\n",
       "      <td>0.418</td>\n",
       "      <td>234.840</td>\n",
       "      <td>18.400</td>\n",
       "      <td>0.000</td>\n",
       "      <td>1.000</td>\n",
       "      <td>17.0</td>\n",
       "    </tr>\n",
       "    <tr>\n",
       "      <th>2006-12-16 17:25:00+01:00</th>\n",
       "      <td>5.360</td>\n",
       "      <td>0.436</td>\n",
       "      <td>233.630</td>\n",
       "      <td>23.000</td>\n",
       "      <td>0.000</td>\n",
       "      <td>1.000</td>\n",
       "      <td>16.0</td>\n",
       "    </tr>\n",
       "    <tr>\n",
       "      <th>2006-12-16 17:26:00+01:00</th>\n",
       "      <td>5.374</td>\n",
       "      <td>0.498</td>\n",
       "      <td>233.290</td>\n",
       "      <td>23.000</td>\n",
       "      <td>0.000</td>\n",
       "      <td>2.000</td>\n",
       "      <td>17.0</td>\n",
       "    </tr>\n",
       "    <tr>\n",
       "      <th>2006-12-16 17:27:00+01:00</th>\n",
       "      <td>5.388</td>\n",
       "      <td>0.502</td>\n",
       "      <td>233.740</td>\n",
       "      <td>23.000</td>\n",
       "      <td>0.000</td>\n",
       "      <td>1.000</td>\n",
       "      <td>17.0</td>\n",
       "    </tr>\n",
       "    <tr>\n",
       "      <th>2006-12-16 17:28:00+01:00</th>\n",
       "      <td>3.666</td>\n",
       "      <td>0.528</td>\n",
       "      <td>235.680</td>\n",
       "      <td>15.800</td>\n",
       "      <td>0.000</td>\n",
       "      <td>1.000</td>\n",
       "      <td>17.0</td>\n",
       "    </tr>\n",
       "  </tbody>\n",
       "</table>\n",
       "</div>"
      ],
      "text/plain": [
       "                          Global_active_power Global_reactive_power  Voltage  \\\n",
       "2006-12-16 17:24:00+01:00               4.216                 0.418  234.840   \n",
       "2006-12-16 17:25:00+01:00               5.360                 0.436  233.630   \n",
       "2006-12-16 17:26:00+01:00               5.374                 0.498  233.290   \n",
       "2006-12-16 17:27:00+01:00               5.388                 0.502  233.740   \n",
       "2006-12-16 17:28:00+01:00               3.666                 0.528  235.680   \n",
       "\n",
       "                          Global_intensity Sub_metering_1 Sub_metering_2  \\\n",
       "2006-12-16 17:24:00+01:00           18.400          0.000          1.000   \n",
       "2006-12-16 17:25:00+01:00           23.000          0.000          1.000   \n",
       "2006-12-16 17:26:00+01:00           23.000          0.000          2.000   \n",
       "2006-12-16 17:27:00+01:00           23.000          0.000          1.000   \n",
       "2006-12-16 17:28:00+01:00           15.800          0.000          1.000   \n",
       "\n",
       "                           Sub_metering_3  \n",
       "2006-12-16 17:24:00+01:00            17.0  \n",
       "2006-12-16 17:25:00+01:00            16.0  \n",
       "2006-12-16 17:26:00+01:00            17.0  \n",
       "2006-12-16 17:27:00+01:00            17.0  \n",
       "2006-12-16 17:28:00+01:00            17.0  "
      ]
     },
     "execution_count": 7,
     "metadata": {},
     "output_type": "execute_result"
    }
   ],
   "source": [
    "filled_df.head()"
   ]
  },
  {
   "cell_type": "code",
   "execution_count": 8,
   "metadata": {},
   "outputs": [
    {
     "name": "stdout",
     "output_type": "stream",
     "text": [
      "Indices with null values:\n",
      "DatetimeIndex([], dtype='datetime64[ns, Europe/Paris]', freq=None)\n",
      "\n",
      "Columns at each index with null values:\n"
     ]
    }
   ],
   "source": [
    "null_indices = filled_df.index[filled_df.isnull().any(axis=1)]\n",
    "print(\"Indices with null values:\")\n",
    "print(null_indices)\n",
    "\n",
    "print(\"\\nColumns at each index with null values:\")\n",
    "for idx in null_indices:\n",
    "    print(f\"\\nIndex: {idx}\")\n",
    "    print(filled_df.loc[idx])"
   ]
  },
  {
   "cell_type": "code",
   "execution_count": 9,
   "metadata": {},
   "outputs": [],
   "source": [
    "# Hour of the Day (0 to 23)\n",
    "filled_df['HoD'] = filled_df.index.hour\n",
    "# Day of the Week (1=Monday to 7=Sunday)\n",
    "filled_df['DoW'] = filled_df.index.dayofweek + 1\n",
    "filled_df['MoY'] = filled_df.index.month"
   ]
  },
  {
   "cell_type": "code",
   "execution_count": 10,
   "metadata": {},
   "outputs": [
    {
     "data": {
      "text/html": [
       "<div>\n",
       "<style scoped>\n",
       "    .dataframe tbody tr th:only-of-type {\n",
       "        vertical-align: middle;\n",
       "    }\n",
       "\n",
       "    .dataframe tbody tr th {\n",
       "        vertical-align: top;\n",
       "    }\n",
       "\n",
       "    .dataframe thead th {\n",
       "        text-align: right;\n",
       "    }\n",
       "</style>\n",
       "<table border=\"1\" class=\"dataframe\">\n",
       "  <thead>\n",
       "    <tr style=\"text-align: right;\">\n",
       "      <th></th>\n",
       "      <th>Global_active_power</th>\n",
       "      <th>Global_reactive_power</th>\n",
       "      <th>Voltage</th>\n",
       "      <th>Global_intensity</th>\n",
       "      <th>Sub_metering_1</th>\n",
       "      <th>Sub_metering_2</th>\n",
       "      <th>Sub_metering_3</th>\n",
       "      <th>HoD</th>\n",
       "      <th>DoW</th>\n",
       "      <th>MoY</th>\n",
       "    </tr>\n",
       "  </thead>\n",
       "  <tbody>\n",
       "    <tr>\n",
       "      <th>2006-12-16 17:24:00+01:00</th>\n",
       "      <td>4.216</td>\n",
       "      <td>0.418</td>\n",
       "      <td>234.840</td>\n",
       "      <td>18.400</td>\n",
       "      <td>0.000</td>\n",
       "      <td>1.000</td>\n",
       "      <td>17.0</td>\n",
       "      <td>17</td>\n",
       "      <td>6</td>\n",
       "      <td>12</td>\n",
       "    </tr>\n",
       "    <tr>\n",
       "      <th>2006-12-16 17:25:00+01:00</th>\n",
       "      <td>5.360</td>\n",
       "      <td>0.436</td>\n",
       "      <td>233.630</td>\n",
       "      <td>23.000</td>\n",
       "      <td>0.000</td>\n",
       "      <td>1.000</td>\n",
       "      <td>16.0</td>\n",
       "      <td>17</td>\n",
       "      <td>6</td>\n",
       "      <td>12</td>\n",
       "    </tr>\n",
       "    <tr>\n",
       "      <th>2006-12-16 17:26:00+01:00</th>\n",
       "      <td>5.374</td>\n",
       "      <td>0.498</td>\n",
       "      <td>233.290</td>\n",
       "      <td>23.000</td>\n",
       "      <td>0.000</td>\n",
       "      <td>2.000</td>\n",
       "      <td>17.0</td>\n",
       "      <td>17</td>\n",
       "      <td>6</td>\n",
       "      <td>12</td>\n",
       "    </tr>\n",
       "    <tr>\n",
       "      <th>2006-12-16 17:27:00+01:00</th>\n",
       "      <td>5.388</td>\n",
       "      <td>0.502</td>\n",
       "      <td>233.740</td>\n",
       "      <td>23.000</td>\n",
       "      <td>0.000</td>\n",
       "      <td>1.000</td>\n",
       "      <td>17.0</td>\n",
       "      <td>17</td>\n",
       "      <td>6</td>\n",
       "      <td>12</td>\n",
       "    </tr>\n",
       "    <tr>\n",
       "      <th>2006-12-16 17:28:00+01:00</th>\n",
       "      <td>3.666</td>\n",
       "      <td>0.528</td>\n",
       "      <td>235.680</td>\n",
       "      <td>15.800</td>\n",
       "      <td>0.000</td>\n",
       "      <td>1.000</td>\n",
       "      <td>17.0</td>\n",
       "      <td>17</td>\n",
       "      <td>6</td>\n",
       "      <td>12</td>\n",
       "    </tr>\n",
       "  </tbody>\n",
       "</table>\n",
       "</div>"
      ],
      "text/plain": [
       "                          Global_active_power Global_reactive_power  Voltage  \\\n",
       "2006-12-16 17:24:00+01:00               4.216                 0.418  234.840   \n",
       "2006-12-16 17:25:00+01:00               5.360                 0.436  233.630   \n",
       "2006-12-16 17:26:00+01:00               5.374                 0.498  233.290   \n",
       "2006-12-16 17:27:00+01:00               5.388                 0.502  233.740   \n",
       "2006-12-16 17:28:00+01:00               3.666                 0.528  235.680   \n",
       "\n",
       "                          Global_intensity Sub_metering_1 Sub_metering_2  \\\n",
       "2006-12-16 17:24:00+01:00           18.400          0.000          1.000   \n",
       "2006-12-16 17:25:00+01:00           23.000          0.000          1.000   \n",
       "2006-12-16 17:26:00+01:00           23.000          0.000          2.000   \n",
       "2006-12-16 17:27:00+01:00           23.000          0.000          1.000   \n",
       "2006-12-16 17:28:00+01:00           15.800          0.000          1.000   \n",
       "\n",
       "                           Sub_metering_3  HoD  DoW  MoY  \n",
       "2006-12-16 17:24:00+01:00            17.0   17    6   12  \n",
       "2006-12-16 17:25:00+01:00            16.0   17    6   12  \n",
       "2006-12-16 17:26:00+01:00            17.0   17    6   12  \n",
       "2006-12-16 17:27:00+01:00            17.0   17    6   12  \n",
       "2006-12-16 17:28:00+01:00            17.0   17    6   12  "
      ]
     },
     "execution_count": 10,
     "metadata": {},
     "output_type": "execute_result"
    }
   ],
   "source": [
    "filled_df.head()"
   ]
  },
  {
   "cell_type": "code",
   "execution_count": null,
   "metadata": {},
   "outputs": [
    {
     "name": "stdout",
     "output_type": "stream",
     "text": [
      "Data saved to '../data/processed/france_data_cleaned.csv'\n"
     ]
    }
   ],
   "source": [
    "# # Save the cleaned data to a CSV file\n",
    "# filled_df.to_csv(f'{project_root}/data/cleaned/cleaned_france_data.csv')\n",
    "# print(\"Data saved to '../data/processed/france_data_cleaned.csv'\")\n"
   ]
  },
  {
   "cell_type": "code",
   "execution_count": 12,
   "metadata": {},
   "outputs": [
    {
     "name": "stdout",
     "output_type": "stream",
     "text": [
      "2075499\n"
     ]
    }
   ],
   "source": [
    "print(len(filled_df))"
   ]
  },
  {
   "cell_type": "code",
   "execution_count": 13,
   "metadata": {},
   "outputs": [
    {
     "name": "stdout",
     "output_type": "stream",
     "text": [
      "Date at index 0: 2006-12-16 17:24:00+01:00\n"
     ]
    }
   ],
   "source": [
    "row_idx = 0\n",
    "print(f\"Date at index {row_idx}: {filled_df.index[row_idx]}\")"
   ]
  },
  {
   "cell_type": "code",
   "execution_count": 14,
   "metadata": {},
   "outputs": [
    {
     "name": "stdout",
     "output_type": "stream",
     "text": [
      "Date at index 1245299: 2009-04-29 10:23:00+02:00\n"
     ]
    }
   ],
   "source": [
    "row_idx = 1245299\n",
    "print(f\"Date at index {row_idx}: {filled_df.index[row_idx]}\")"
   ]
  },
  {
   "cell_type": "code",
   "execution_count": 15,
   "metadata": {},
   "outputs": [
    {
     "name": "stdout",
     "output_type": "stream",
     "text": [
      "Date at index 1660399: 2010-02-11 15:43:00+01:00\n"
     ]
    }
   ],
   "source": [
    "row_idx = 1660399\n",
    "print(f\"Date at index {row_idx}: {filled_df.index[row_idx]}\")"
   ]
  },
  {
   "cell_type": "code",
   "execution_count": 16,
   "metadata": {},
   "outputs": [
    {
     "name": "stdout",
     "output_type": "stream",
     "text": [
      "Date at index 2075498: 2010-11-26 21:02:00+01:00\n"
     ]
    }
   ],
   "source": [
    "row_idx = 2075498\n",
    "print(f\"Date at index {row_idx}: {filled_df.index[row_idx]}\")"
   ]
  },
  {
   "cell_type": "code",
   "execution_count": 17,
   "metadata": {},
   "outputs": [
    {
     "name": "stdout",
     "output_type": "stream",
     "text": [
      "Column 'Global_active_power' contains non-numeric values\n",
      "Sample non-numeric values: ['?', '?', '?', '?', '?']\n",
      "Column 'Global_reactive_power' contains non-numeric values\n",
      "Sample non-numeric values: ['?', '?', '?', '?', '?']\n",
      "Column 'Voltage' contains non-numeric values\n",
      "Sample non-numeric values: ['?', '?', '?', '?', '?']\n",
      "Column 'Global_intensity' contains non-numeric values\n",
      "Sample non-numeric values: ['?', '?', '?', '?', '?']\n",
      "Column 'Sub_metering_1' contains non-numeric values\n",
      "Sample non-numeric values: ['?', '?', '?', '?', '?']\n",
      "Column 'Sub_metering_2' contains non-numeric values\n",
      "Sample non-numeric values: ['?', '?', '?', '?', '?']\n"
     ]
    }
   ],
   "source": [
    "# Check for non-numeric values in each column of the dataframe\n",
    "non_numeric_columns = []\n",
    "\n",
    "for column in filled_df.columns:\n",
    "    # Skip checking the index which is the datetime column\n",
    "    if not pd.api.types.is_numeric_dtype(filled_df[column]):\n",
    "        non_numeric_columns.append(column)\n",
    "        print(f\"Column '{column}' contains non-numeric values\")\n",
    "        # Display a sample of non-numeric values\n",
    "        non_numeric_values = filled_df[~pd.to_numeric(filled_df[column], errors='coerce').notna()][column]\n",
    "        if not non_numeric_values.empty:\n",
    "            print(f\"Sample non-numeric values: {non_numeric_values.head().tolist()}\")\n",
    "\n",
    "if not non_numeric_columns:\n",
    "    print(\"All columns contain numeric values only.\")\n"
   ]
  },
  {
   "cell_type": "code",
   "execution_count": 18,
   "metadata": {},
   "outputs": [
    {
     "name": "stdout",
     "output_type": "stream",
     "text": [
      "Checking for '?' values in the dataframe...\n",
      "Found '?' values in the following columns:\n",
      "  - Global_active_power: 25979 occurrences\n",
      "  - Global_reactive_power: 25979 occurrences\n",
      "  - Voltage: 25979 occurrences\n",
      "  - Global_intensity: 25979 occurrences\n",
      "  - Sub_metering_1: 25979 occurrences\n",
      "  - Sub_metering_2: 25979 occurrences\n",
      "Replaced all '?' values with NaN\n",
      "Verification successful: No '?' values remain in the dataframe\n"
     ]
    }
   ],
   "source": [
    "# Replace '?' values with NaN in the entire dataframe\n",
    "print(\"Checking for '?' values in the dataframe...\")\n",
    "\n",
    "# Count the number of '?' values in each column before replacement\n",
    "question_mark_counts = {}\n",
    "for column in filled_df.columns:\n",
    "    question_mark_count = (filled_df[column] == '?').sum()\n",
    "    if question_mark_count > 0:\n",
    "        question_mark_counts[column] = question_mark_count\n",
    "\n",
    "if question_mark_counts:\n",
    "    print(\"Found '?' values in the following columns:\")\n",
    "    for column, count in question_mark_counts.items():\n",
    "        print(f\"  - {column}: {count} occurrences\")\n",
    "    \n",
    "    # Replace '?' with NaN\n",
    "    filled_df = filled_df.replace('?', np.nan)\n",
    "    print(\"Replaced all '?' values with NaN\")\n",
    "    \n",
    "    # Verify replacement\n",
    "    remaining_question_marks = 0\n",
    "    for column in filled_df.columns:\n",
    "        remaining_question_marks += (filled_df[column] == '?').sum()\n",
    "    \n",
    "    if remaining_question_marks == 0:\n",
    "        print(\"Verification successful: No '?' values remain in the dataframe\")\n",
    "    else:\n",
    "        print(f\"Warning: {remaining_question_marks} '?' values still remain in the dataframe\")\n",
    "else:\n",
    "    print(\"No '?' values found in the dataframe\")\n"
   ]
  },
  {
   "cell_type": "code",
   "execution_count": 19,
   "metadata": {},
   "outputs": [
    {
     "name": "stdout",
     "output_type": "stream",
     "text": [
      "DatetimeIndex([], dtype='datetime64[ns, Europe/Paris]', freq='min')\n"
     ]
    }
   ],
   "source": [
    "start_time = raw_data.index.min()\n",
    "end_time = raw_data.index.max()\n",
    "complete_range = pd.date_range(start=start_time, end=end_time, freq='min')\n",
    "\n",
    "# Find missing hours and then insert these times to make the time consecutive\n",
    "missing_hours = complete_range.difference(filled_df.index)\n",
    "print(missing_hours)\n",
    "missing_df = pd.DataFrame(index=missing_hours)\n",
    "filled_df = pd.concat([filled_df, missing_df])\n",
    "filled_df = filled_df.sort_index()\n",
    "\n",
    "filled_df = strategic_fill(filled_df)"
   ]
  },
  {
   "cell_type": "code",
   "execution_count": 20,
   "metadata": {},
   "outputs": [
    {
     "name": "stdout",
     "output_type": "stream",
     "text": [
      "Data saved to '../data/processed/france_data_cleaned.csv'\n"
     ]
    }
   ],
   "source": [
    "# Save the cleaned data to a CSV file\n",
    "filled_df.to_csv(f'{project_root}/data/cleaned/cleaned_france_data.csv')\n",
    "print(\"Data saved to '../data/processed/france_data_cleaned.csv'\")\n"
   ]
  }
 ],
 "metadata": {
  "kernelspec": {
   "display_name": "epf",
   "language": "python",
   "name": "python3"
  },
  "language_info": {
   "codemirror_mode": {
    "name": "ipython",
    "version": 3
   },
   "file_extension": ".py",
   "mimetype": "text/x-python",
   "name": "python",
   "nbconvert_exporter": "python",
   "pygments_lexer": "ipython3",
   "version": "3.12.7"
  }
 },
 "nbformat": 4,
 "nbformat_minor": 2
}
